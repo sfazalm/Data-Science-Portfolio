{
 "cells": [
  {
   "cell_type": "markdown",
   "metadata": {},
   "source": [
    "# Movie Recommendation System (Restricted Boltzmann Machine)"
   ]
  },
  {
   "cell_type": "code",
   "execution_count": 1,
   "metadata": {},
   "outputs": [],
   "source": [
    "import numpy as np\n",
    "import matplotlib.pyplot as plt\n",
    "import tensorflow as tf\n",
    "import pandas as pd\n",
    "\n",
    "%matplotlib inline"
   ]
  },
  {
   "cell_type": "markdown",
   "metadata": {},
   "source": [
    "We will be using data acquired from Grouplens which contains movies, users and rating by three users. Updated datasets are available, though we will be using this dataset due to its small size."
   ]
  },
  {
   "cell_type": "code",
   "execution_count": 2,
   "metadata": {},
   "outputs": [
    {
     "name": "stdout",
     "output_type": "stream",
     "text": [
      "--2019-04-08 18:21:03--  http://files.grouplens.org/datasets/movielens/ml-1m.zip\n",
      "Resolving files.grouplens.org (files.grouplens.org)... 128.101.34.235\n",
      "Connecting to files.grouplens.org (files.grouplens.org)|128.101.34.235|:80... connected.\n",
      "HTTP request sent, awaiting response... 200 OK\n",
      "Length: 5917549 (5.6M) [application/zip]\n",
      "Saving to: ‘./data/moviedataset.zip’\n",
      "\n",
      "./data/moviedataset 100%[===================>]   5.64M  1.97MB/s    in 2.9s    \n",
      "\n",
      "2019-04-08 18:21:06 (1.97 MB/s) - ‘./data/moviedataset.zip’ saved [5917549/5917549]\n",
      "\n",
      "Archive:  ./data/moviedataset.zip\n",
      "  inflating: ./data/ml-1m/movies.dat  \n",
      "  inflating: ./data/ml-1m/ratings.dat  \n",
      "  inflating: ./data/ml-1m/README     \n",
      "  inflating: ./data/ml-1m/users.dat  \n"
     ]
    }
   ],
   "source": [
    "!wget -O ./data/moviedataset.zip http://files.grouplens.org/datasets/movielens/ml-1m.zip\n",
    "!unzip -o ./data/moviedataset.zip -d ./data"
   ]
  },
  {
   "cell_type": "code",
   "execution_count": 2,
   "metadata": {},
   "outputs": [],
   "source": [
    "def get_training_data():\n",
    "    '''\n",
    "    Returns (X_train, movies_df, ratings_df, user_rating_df)\n",
    "    '''\n",
    "    \n",
    "    movies_df = pd.read_csv('./data/ml-1m/movies.dat', sep='::', header=None, engine='python')\n",
    "    ratings_df = pd.read_csv('./data/ml-1m/ratings.dat', sep='::', header=None, engine='python')\n",
    "    \n",
    "    movies_df.columns = ['MovieID', 'Title', 'Genres']\n",
    "    ratings_df.columns = ['UserID', 'MovieID', 'Rating', 'Timestamp']\n",
    "    \n",
    "    user_rating_df = ratings_df.pivot(index='UserID', columns='MovieID', values='Rating')\n",
    "    \n",
    "    norm_user_rating_df = user_rating_df.fillna(0) / 5.0\n",
    "    X_train = norm_user_rating_df.values\n",
    "    \n",
    "    return(X_train, movies_df, ratings_df, user_rating_df)"
   ]
  },
  {
   "cell_type": "code",
   "execution_count": 3,
   "metadata": {},
   "outputs": [],
   "source": [
    "X_train, movies_df, ratings_df, user_rating_df = get_training_data()"
   ]
  },
  {
   "cell_type": "markdown",
   "metadata": {},
   "source": [
    "We will create a RBM with 20 hidden nodes and as many visible nodes as number of unique user ratings."
   ]
  },
  {
   "cell_type": "code",
   "execution_count": 4,
   "metadata": {},
   "outputs": [],
   "source": [
    "#Initialization\n",
    "nh = 20\n",
    "nv = len(user_rating_df.columns)\n",
    "\n",
    "vb = tf.placeholder(\"float\", [nv]) #placeholders for bias in visible nodes\n",
    "hb = tf.placeholder(\"float\", [nh]) #placeholders for bias in hidden nodes\n",
    "\n",
    "W = tf.placeholder(\"float\", [nv, nh]) #weights matrix"
   ]
  },
  {
   "cell_type": "code",
   "execution_count": 5,
   "metadata": {},
   "outputs": [],
   "source": [
    "#Phase 1: Input\n",
    "\n",
    "v0 = tf.placeholder(\"float\", [None, nv]) #Initial state of visible layer\n",
    "_h0 = tf.nn.sigmoid(tf.matmul(v0, W) + hb) #Probability of each hidden unit\n",
    "h0 = tf.nn.relu(tf.sign(_h0 - tf.random_uniform(tf.shape(_h0)))) #Drawing samples from hidden units\n",
    "\n",
    "#Phase 2: Reconstruction\n",
    "\n",
    "_v1 = tf.nn.sigmoid(tf.matmul(h0, tf.transpose(W)) + vb) #Calculated probabilities of visible unit\n",
    "v1 = tf.nn.relu(tf.sign(_v1 - tf.random_uniform(tf.shape(_v1)))) #Sample v given h\n",
    "h1 = tf.nn.sigmoid(tf.matmul(v1, W) + hb) #Final hidden layer state"
   ]
  },
  {
   "cell_type": "code",
   "execution_count": 6,
   "metadata": {},
   "outputs": [],
   "source": [
    "lr = 1.0\n",
    "\n",
    "#Calculate the Contrastive Divergence to maximize\n",
    "contr_diverg = (tf.matmul(tf.transpose(v0), h0) - tf.matmul(tf.transpose(v1), h1)) / tf.to_float(tf.shape(v0)[0])\n",
    "\n",
    "#Create methods to update the weights and biases\n",
    "update_w = W + lr * contr_diverg\n",
    "update_vb = vb + lr * tf.reduce_mean(v0 - v1, 0)\n",
    "update_hb = hb + lr * tf.reduce_mean(h0 - h1, 0)"
   ]
  },
  {
   "cell_type": "markdown",
   "metadata": {},
   "source": [
    "We will use a mean squared error function for our model."
   ]
  },
  {
   "cell_type": "code",
   "execution_count": 7,
   "metadata": {},
   "outputs": [],
   "source": [
    "err = v0 - v1\n",
    "err_sum = tf.reduce_mean(err * err)"
   ]
  },
  {
   "cell_type": "markdown",
   "metadata": {},
   "source": [
    "Initialize variables to hold values for our placeholders."
   ]
  },
  {
   "cell_type": "code",
   "execution_count": 8,
   "metadata": {},
   "outputs": [],
   "source": [
    "#Current weight\n",
    "cur_w = np.zeros([nv, nh], np.float32)\n",
    "#Current visible unit biases\n",
    "cur_vb = np.zeros([nv], np.float32)\n",
    "#Current hidden unit biases\n",
    "cur_hb = np.zeros([nh], np.float32)\n",
    "\n",
    "#Previous weight\n",
    "prv_w = np.zeros([nv, nh], np.float32)\n",
    "#Previous visible unit biases\n",
    "prv_vb = np.zeros([nv], np.float32)\n",
    "#Previous hidden unit biases\n",
    "prv_hb = np.zeros([nh], np.float32)"
   ]
  },
  {
   "cell_type": "code",
   "execution_count": 9,
   "metadata": {},
   "outputs": [],
   "source": [
    "sess = tf.Session()\n",
    "sess.run(tf.global_variables_initializer())"
   ]
  },
  {
   "cell_type": "code",
   "execution_count": 10,
   "metadata": {},
   "outputs": [
    {
     "name": "stdout",
     "output_type": "stream",
     "text": [
      "Epoch\tTraining Error\n",
      "---------------------------------\n",
      "1  \t0.0557\n",
      "2  \t0.0472\n",
      "3  \t0.0440\n",
      "4  \t0.0429\n",
      "5  \t0.0423\n",
      "6  \t0.0416\n",
      "7  \t0.0413\n",
      "8  \t0.0410\n",
      "9  \t0.0407\n",
      "10  \t0.0407\n",
      "11  \t0.0405\n",
      "12  \t0.0404\n",
      "13  \t0.0403\n",
      "14  \t0.0402\n",
      "15  \t0.0401\n",
      "---------------------------------\n"
     ]
    }
   ],
   "source": [
    "epochs = 15\n",
    "batchsize = 100\n",
    "errors = []\n",
    "\n",
    "print(\"Epoch\\tTraining Error\")\n",
    "print(\"---------------------------------\")\n",
    "for i in range(epochs):\n",
    "    for start, end in zip(range(0, len(X_train), batchsize), range(batchsize, len(X_train), batchsize)):\n",
    "        batch = X_train[start:end]\n",
    "        cur_w = sess.run(update_w, feed_dict={v0: batch, W: prv_w, vb: prv_vb, hb: prv_hb})\n",
    "        cur_vb = sess.run(update_vb, feed_dict={v0: batch, W: prv_w, vb: prv_vb, hb: prv_hb})\n",
    "        cur_hb = sess.run(update_hb, feed_dict={v0: batch, W: prv_w, vb: prv_vb, hb: prv_hb})\n",
    "        prv_w = cur_w\n",
    "        prv_vb = cur_vb\n",
    "        prv_hb = cur_hb\n",
    "        \n",
    "    errors.append(sess.run(err_sum, feed_dict={v0: X_train, W: cur_w, vb: cur_vb, hb: cur_hb}))\n",
    "    print (i+1, \" \\t{0:.4f}\".format(errors[-1]))\n",
    "print(\"---------------------------------\")"
   ]
  },
  {
   "cell_type": "markdown",
   "metadata": {},
   "source": [
    "Plotting the errors for each epoch gives us an insight on the training process."
   ]
  },
  {
   "cell_type": "code",
   "execution_count": 11,
   "metadata": {},
   "outputs": [
    {
     "data": {
      "image/png": "[encoded data removed]",
      "text/plain": [
       "<Figure size 1080x720 with 1 Axes>"
      ]
     },
     "metadata": {
      "needs_background": "light"
     },
     "output_type": "display_data"
    }
   ],
   "source": [
    "plt.figure(figsize=(15, 10))\n",
    "plt.plot(errors, 'r.-')\n",
    "plt.xlabel(\"Epochs\")\n",
    "plt.ylabel(\"Errors\")\n",
    "plt.title(\"Errors vs. Epochs\")\n",
    "plt.grid()\n",
    "plt.show()"
   ]
  },
  {
   "cell_type": "code",
   "execution_count": 12,
   "metadata": {},
   "outputs": [],
   "source": [
    "def recommend(user_id, movies_df, user_rating_df):\n",
    "    '''\n",
    "    This function returns a dataframe of recommendations based on the UserID provided.\n",
    "    '''\n",
    "    inputUser = X_train[user_id-1].reshape(1, -1)\n",
    "    \n",
    "    hh0 = tf.nn.sigmoid(tf.matmul(v0, W) + hb)\n",
    "    vv1 = tf.nn.sigmoid(tf.matmul(hh0, tf.transpose(W)) + vb)\n",
    "    feed = sess.run(hh0, feed_dict={ v0: inputUser, W: prv_w, hb: prv_hb})\n",
    "    rec = sess.run(vv1, feed_dict={ hh0: feed, W: prv_w, vb: prv_vb})\n",
    "\n",
    "    scored_movies_df = movies_df[movies_df['MovieID'].isin(user_rating_df.columns)]\n",
    "    scored_movies_df = scored_movies_df.assign(RecommendationScore = rec[0])\n",
    "    \n",
    "    movies_df = ratings_df[ratings_df['UserID'] == user_id]\n",
    "    \n",
    "    merged_df = scored_movies_df.merge(movies_df, on='MovieID', how='outer')\n",
    "    \n",
    "    merged_df = merged_df.sort_values([\"RecommendationScore\"], ascending=False)\n",
    "    \n",
    "    recommendations = merged_df[pd.isnull(merged_df[\"UserID\"])]\n",
    "    \n",
    "    return(recommendations[['MovieID', 'Title', 'Genres', 'RecommendationScore']])"
   ]
  },
  {
   "cell_type": "code",
   "execution_count": 13,
   "metadata": {},
   "outputs": [],
   "source": [
    "recommendations = recommend(215, movies_df, user_rating_df)"
   ]
  },
  {
   "cell_type": "code",
   "execution_count": 14,
   "metadata": {},
   "outputs": [
    {
     "data": {
      "text/html": [
       "<div>\n",
       "<style scoped>\n",
       "    .dataframe tbody tr th:only-of-type {\n",
       "        vertical-align: middle;\n",
       "    }\n",
       "\n",
       "    .dataframe tbody tr th {\n",
       "        vertical-align: top;\n",
       "    }\n",
       "\n",
       "    .dataframe thead th {\n",
       "        text-align: right;\n",
       "    }\n",
       "</style>\n",
       "<table border=\"1\" class=\"dataframe\">\n",
       "  <thead>\n",
       "    <tr style=\"text-align: right;\">\n",
       "      <th></th>\n",
       "      <th>MovieID</th>\n",
       "      <th>Title</th>\n",
       "      <th>Genres</th>\n",
       "      <th>RecommendationScore</th>\n",
       "    </tr>\n",
       "  </thead>\n",
       "  <tbody>\n",
       "    <tr>\n",
       "      <th>2374</th>\n",
       "      <td>2571</td>\n",
       "      <td>Matrix, The (1999)</td>\n",
       "      <td>Action|Sci-Fi|Thriller</td>\n",
       "      <td>0.638056</td>\n",
       "    </tr>\n",
       "    <tr>\n",
       "      <th>575</th>\n",
       "      <td>589</td>\n",
       "      <td>Terminator 2: Judgment Day (1991)</td>\n",
       "      <td>Action|Sci-Fi|Thriller</td>\n",
       "      <td>0.616520</td>\n",
       "    </tr>\n",
       "    <tr>\n",
       "      <th>1148</th>\n",
       "      <td>1240</td>\n",
       "      <td>Terminator, The (1984)</td>\n",
       "      <td>Action|Sci-Fi|Thriller</td>\n",
       "      <td>0.531408</td>\n",
       "    </tr>\n",
       "    <tr>\n",
       "      <th>1106</th>\n",
       "      <td>1196</td>\n",
       "      <td>Star Wars: Episode V - The Empire Strikes Back...</td>\n",
       "      <td>Action|Adventure|Drama|Sci-Fi|War</td>\n",
       "      <td>0.335883</td>\n",
       "    </tr>\n",
       "    <tr>\n",
       "      <th>1449</th>\n",
       "      <td>1580</td>\n",
       "      <td>Men in Black (1997)</td>\n",
       "      <td>Action|Adventure|Comedy|Sci-Fi</td>\n",
       "      <td>0.308204</td>\n",
       "    </tr>\n",
       "    <tr>\n",
       "      <th>443</th>\n",
       "      <td>457</td>\n",
       "      <td>Fugitive, The (1993)</td>\n",
       "      <td>Action|Thriller</td>\n",
       "      <td>0.263527</td>\n",
       "    </tr>\n",
       "    <tr>\n",
       "      <th>1178</th>\n",
       "      <td>1270</td>\n",
       "      <td>Back to the Future (1985)</td>\n",
       "      <td>Comedy|Sci-Fi</td>\n",
       "      <td>0.256082</td>\n",
       "    </tr>\n",
       "    <tr>\n",
       "      <th>1124</th>\n",
       "      <td>1214</td>\n",
       "      <td>Alien (1979)</td>\n",
       "      <td>Action|Horror|Sci-Fi|Thriller</td>\n",
       "      <td>0.244721</td>\n",
       "    </tr>\n",
       "    <tr>\n",
       "      <th>737</th>\n",
       "      <td>780</td>\n",
       "      <td>Independence Day (ID4) (1996)</td>\n",
       "      <td>Action|Sci-Fi|War</td>\n",
       "      <td>0.217832</td>\n",
       "    </tr>\n",
       "    <tr>\n",
       "      <th>1110</th>\n",
       "      <td>1200</td>\n",
       "      <td>Aliens (1986)</td>\n",
       "      <td>Action|Sci-Fi|Thriller|War</td>\n",
       "      <td>0.209356</td>\n",
       "    </tr>\n",
       "    <tr>\n",
       "      <th>1258</th>\n",
       "      <td>1356</td>\n",
       "      <td>Star Trek: First Contact (1996)</td>\n",
       "      <td>Action|Adventure|Sci-Fi</td>\n",
       "      <td>0.186538</td>\n",
       "    </tr>\n",
       "    <tr>\n",
       "      <th>1478</th>\n",
       "      <td>1610</td>\n",
       "      <td>Hunt for Red October, The (1990)</td>\n",
       "      <td>Action|Thriller</td>\n",
       "      <td>0.157157</td>\n",
       "    </tr>\n",
       "    <tr>\n",
       "      <th>1050</th>\n",
       "      <td>1127</td>\n",
       "      <td>Abyss, The (1989)</td>\n",
       "      <td>Action|Adventure|Sci-Fi|Thriller</td>\n",
       "      <td>0.146182</td>\n",
       "    </tr>\n",
       "    <tr>\n",
       "      <th>367</th>\n",
       "      <td>377</td>\n",
       "      <td>Speed (1994)</td>\n",
       "      <td>Action|Romance|Thriller</td>\n",
       "      <td>0.128601</td>\n",
       "    </tr>\n",
       "    <tr>\n",
       "      <th>106</th>\n",
       "      <td>110</td>\n",
       "      <td>Braveheart (1995)</td>\n",
       "      <td>Action|Drama|War</td>\n",
       "      <td>0.126187</td>\n",
       "    </tr>\n",
       "    <tr>\n",
       "      <th>2214</th>\n",
       "      <td>2407</td>\n",
       "      <td>Cocoon (1985)</td>\n",
       "      <td>Comedy|Sci-Fi</td>\n",
       "      <td>0.120763</td>\n",
       "    </tr>\n",
       "    <tr>\n",
       "      <th>3294</th>\n",
       "      <td>3527</td>\n",
       "      <td>Predator (1987)</td>\n",
       "      <td>Action|Sci-Fi|Thriller</td>\n",
       "      <td>0.119992</td>\n",
       "    </tr>\n",
       "    <tr>\n",
       "      <th>2438</th>\n",
       "      <td>2640</td>\n",
       "      <td>Superman (1978)</td>\n",
       "      <td>Action|Adventure|Sci-Fi</td>\n",
       "      <td>0.119614</td>\n",
       "    </tr>\n",
       "    <tr>\n",
       "      <th>3238</th>\n",
       "      <td>3471</td>\n",
       "      <td>Close Encounters of the Third Kind (1977)</td>\n",
       "      <td>Drama|Sci-Fi</td>\n",
       "      <td>0.119003</td>\n",
       "    </tr>\n",
       "    <tr>\n",
       "      <th>1108</th>\n",
       "      <td>1198</td>\n",
       "      <td>Raiders of the Lost Ark (1981)</td>\n",
       "      <td>Action|Adventure</td>\n",
       "      <td>0.118519</td>\n",
       "    </tr>\n",
       "  </tbody>\n",
       "</table>\n",
       "</div>"
      ],
      "text/plain": [
       "      MovieID                                              Title  \\\n",
       "2374     2571                                 Matrix, The (1999)   \n",
       "575       589                  Terminator 2: Judgment Day (1991)   \n",
       "1148     1240                             Terminator, The (1984)   \n",
       "1106     1196  Star Wars: Episode V - The Empire Strikes Back...   \n",
       "1449     1580                                Men in Black (1997)   \n",
       "443       457                               Fugitive, The (1993)   \n",
       "1178     1270                          Back to the Future (1985)   \n",
       "1124     1214                                       Alien (1979)   \n",
       "737       780                      Independence Day (ID4) (1996)   \n",
       "1110     1200                                      Aliens (1986)   \n",
       "1258     1356                    Star Trek: First Contact (1996)   \n",
       "1478     1610                   Hunt for Red October, The (1990)   \n",
       "1050     1127                                  Abyss, The (1989)   \n",
       "367       377                                       Speed (1994)   \n",
       "106       110                                  Braveheart (1995)   \n",
       "2214     2407                                      Cocoon (1985)   \n",
       "3294     3527                                    Predator (1987)   \n",
       "2438     2640                                    Superman (1978)   \n",
       "3238     3471          Close Encounters of the Third Kind (1977)   \n",
       "1108     1198                     Raiders of the Lost Ark (1981)   \n",
       "\n",
       "                                 Genres  RecommendationScore  \n",
       "2374             Action|Sci-Fi|Thriller             0.638056  \n",
       "575              Action|Sci-Fi|Thriller             0.616520  \n",
       "1148             Action|Sci-Fi|Thriller             0.531408  \n",
       "1106  Action|Adventure|Drama|Sci-Fi|War             0.335883  \n",
       "1449     Action|Adventure|Comedy|Sci-Fi             0.308204  \n",
       "443                     Action|Thriller             0.263527  \n",
       "1178                      Comedy|Sci-Fi             0.256082  \n",
       "1124      Action|Horror|Sci-Fi|Thriller             0.244721  \n",
       "737                   Action|Sci-Fi|War             0.217832  \n",
       "1110         Action|Sci-Fi|Thriller|War             0.209356  \n",
       "1258            Action|Adventure|Sci-Fi             0.186538  \n",
       "1478                    Action|Thriller             0.157157  \n",
       "1050   Action|Adventure|Sci-Fi|Thriller             0.146182  \n",
       "367             Action|Romance|Thriller             0.128601  \n",
       "106                    Action|Drama|War             0.126187  \n",
       "2214                      Comedy|Sci-Fi             0.120763  \n",
       "3294             Action|Sci-Fi|Thriller             0.119992  \n",
       "2438            Action|Adventure|Sci-Fi             0.119614  \n",
       "3238                       Drama|Sci-Fi             0.119003  \n",
       "1108                   Action|Adventure             0.118519  "
      ]
     },
     "execution_count": 14,
     "metadata": {},
     "output_type": "execute_result"
    }
   ],
   "source": [
    "recommendations.head(20)"
   ]
  },
  {
   "cell_type": "code",
   "execution_count": 15,
   "metadata": {},
   "outputs": [
    {
     "data": {
      "image/png": "[encoded data removed]",
      "text/plain": [
       "<Figure size 1080x720 with 1 Axes>"
      ]
     },
     "metadata": {
      "needs_background": "light"
     },
     "output_type": "display_data"
    }
   ],
   "source": [
    "plt.figure(figsize=(15, 10))\n",
    "plt.plot(recommendations[\"RecommendationScore\"].values, 'r.')\n",
    "plt.grid()\n",
    "plt.ylabel(\"Recommendation Score\")\n",
    "plt.show()"
   ]
  },
  {
   "cell_type": "markdown",
   "metadata": {},
   "source": [
    "As the recommendation score curve becomes quite flat after a few hundred values, only the highest few values have any considerable difference to be recommended."
   ]
  }
 ],
 "metadata": {
  "kernelspec": {
   "display_name": "Python 3",
   "language": "python",
   "name": "python3"
  },
  "language_info": {
   "codemirror_mode": {
    "name": "ipython",
    "version": 3
   },
   "file_extension": ".py",
   "mimetype": "text/x-python",
   "name": "python",
   "nbconvert_exporter": "python",
   "pygments_lexer": "ipython3",
   "version": "3.6.8"
  }
 },
 "nbformat": 4,
 "nbformat_minor": 2
}
