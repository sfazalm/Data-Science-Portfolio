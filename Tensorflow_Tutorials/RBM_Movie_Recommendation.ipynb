{
 "cells": [
  {
   "cell_type": "markdown",
   "metadata": {},
   "source": [
    "# Movie Recommendation System (Restricted Boltzmann Machine)"
   ]
  },
  {
   "cell_type": "code",
   "execution_count": 1,
   "metadata": {},
   "outputs": [],
   "source": [
    "import numpy as np\n",
    "import matplotlib.pyplot as plt\n",
    "import tensorflow as tf\n",
    "import pandas as pd\n",
    "\n",
    "%matplotlib inline"
   ]
  },
  {
   "cell_type": "markdown",
   "metadata": {},
   "source": [
    "We will be using data acquired from Grouplens which contains movies, users and rating by three users. Updated datasets are available, though we will be using this dataset due to its small size."
   ]
  },
  {
   "cell_type": "code",
   "execution_count": 2,
   "metadata": {},
   "outputs": [
    {
     "name": "stdout",
     "output_type": "stream",
     "text": [
      "--2019-04-08 18:21:03--  http://files.grouplens.org/datasets/movielens/ml-1m.zip\n",
      "Resolving files.grouplens.org (files.grouplens.org)... 128.101.34.235\n",
      "Connecting to files.grouplens.org (files.grouplens.org)|128.101.34.235|:80... connected.\n",
      "HTTP request sent, awaiting response... 200 OK\n",
      "Length: 5917549 (5.6M) [application/zip]\n",
      "Saving to: ‘./data/moviedataset.zip’\n",
      "\n",
      "./data/moviedataset 100%[===================>]   5.64M  1.97MB/s    in 2.9s    \n",
      "\n",
      "2019-04-08 18:21:06 (1.97 MB/s) - ‘./data/moviedataset.zip’ saved [5917549/5917549]\n",
      "\n",
      "Archive:  ./data/moviedataset.zip\n",
      "  inflating: ./data/ml-1m/movies.dat  \n",
      "  inflating: ./data/ml-1m/ratings.dat  \n",
      "  inflating: ./data/ml-1m/README     \n",
      "  inflating: ./data/ml-1m/users.dat  \n"
     ]
    }
   ],
   "source": [
    "!wget -O ./data/moviedataset.zip http://files.grouplens.org/datasets/movielens/ml-1m.zip\n",
    "!unzip -o ./data/moviedataset.zip -d ./data"
   ]
  },
  {
   "cell_type": "code",
   "execution_count": 3,
   "metadata": {},
   "outputs": [],
   "source": [
    "def get_training_data():\n",
    "    '''\n",
    "    Returns (X_train, movies_df, ratings_df, user_rating_df)\n",
    "    '''\n",
    "    \n",
    "    movies_df = pd.read_csv('./data/ml-1m/movies.dat', sep='::', header=None, engine='python')\n",
    "    ratings_df = pd.read_csv('./data/ml-1m/ratings.dat', sep='::', header=None, engine='python')\n",
    "    \n",
    "    movies_df.columns = ['MovieID', 'Title', 'Genres']\n",
    "    ratings_df.columns = ['UserID', 'MovieID', 'Rating', 'Timestamp']\n",
    "    \n",
    "    user_rating_df = ratings_df.pivot(index='UserID', columns='MovieID', values='Rating')\n",
    "    \n",
    "    norm_user_rating_df = user_rating_df.fillna(0) / 5.0\n",
    "    X_train = norm_user_rating_df.values\n",
    "    \n",
    "    return(X_train, movies_df, ratings_df, user_rating_df)"
   ]
  },
  {
   "cell_type": "code",
   "execution_count": 4,
   "metadata": {},
   "outputs": [],
   "source": [
    "X_train, movies_df, ratings_df, user_rating_df = get_training_data()"
   ]
  },
  {
   "cell_type": "markdown",
   "metadata": {},
   "source": [
    "We will create a RBM with 20 hidden nodes and as many visible nodes as number of unique user ratings."
   ]
  },
  {
   "cell_type": "code",
   "execution_count": 5,
   "metadata": {},
   "outputs": [],
   "source": [
    "#Initialization\n",
    "nh = 20\n",
    "nv = len(user_rating_df.columns)\n",
    "\n",
    "vb = tf.placeholder(\"float\", [nv]) #placeholders for bias in visible nodes\n",
    "hb = tf.placeholder(\"float\", [nh]) #placeholders for bias in hidden nodes\n",
    "\n",
    "W = tf.placeholder(\"float\", [nv, nh]) #weights matrix"
   ]
  },
  {
   "cell_type": "code",
   "execution_count": 6,
   "metadata": {},
   "outputs": [],
   "source": [
    "#Phase 1: Input\n",
    "\n",
    "v0 = tf.placeholder(\"float\", [None, nv]) #Initial state of visible layer\n",
    "_h0 = tf.nn.sigmoid(tf.matmul(v0, W) + hb) #Probability of each hidden unit\n",
    "h0 = tf.nn.relu(tf.sign(_h0 - tf.random_uniform(tf.shape(_h0)))) #Drawing samples from hidden units\n",
    "\n",
    "#Phase 2: Reconstruction\n",
    "\n",
    "_v1 = tf.nn.sigmoid(tf.matmul(h0, tf.transpose(W)) + vb) #Calculated probabilities of visible unit\n",
    "v1 = tf.nn.relu(tf.sign(_v1 - tf.random_uniform(tf.shape(_v1)))) #Sample v given h\n",
    "h1 = tf.nn.sigmoid(tf.matmul(v1, W) + hb) #Final hidden layer state"
   ]
  },
  {
   "cell_type": "code",
   "execution_count": 7,
   "metadata": {},
   "outputs": [],
   "source": [
    "lr = 1.0\n",
    "\n",
    "#Calculate the Contrastive Divergence to maximize\n",
    "contr_diverg = (tf.matmul(tf.transpose(v0), h0) - tf.matmul(tf.transpose(v1), h1)) / tf.to_float(tf.shape(v0)[0])\n",
    "\n",
    "#Create methods to update the weights and biases\n",
    "update_w = W + lr * contr_diverg\n",
    "update_vb = vb + lr * tf.reduce_mean(v0 - v1, 0)\n",
    "update_hb = hb + lr * tf.reduce_mean(h0 - h1, 0)"
   ]
  },
  {
   "cell_type": "markdown",
   "metadata": {},
   "source": [
    "We will use a mean squared error function for our model."
   ]
  },
  {
   "cell_type": "code",
   "execution_count": 8,
   "metadata": {},
   "outputs": [],
   "source": [
    "err = v0 - v1\n",
    "err_sum = tf.reduce_mean(err * err)"
   ]
  },
  {
   "cell_type": "markdown",
   "metadata": {},
   "source": [
    "Initialize variables to hold values for our placeholders."
   ]
  },
  {
   "cell_type": "code",
   "execution_count": 9,
   "metadata": {},
   "outputs": [],
   "source": [
    "#Current weight\n",
    "cur_w = np.zeros([nv, nh], np.float32)\n",
    "#Current visible unit biases\n",
    "cur_vb = np.zeros([nv], np.float32)\n",
    "#Current hidden unit biases\n",
    "cur_hb = np.zeros([nh], np.float32)\n",
    "\n",
    "#Previous weight\n",
    "prv_w = np.zeros([nv, nh], np.float32)\n",
    "#Previous visible unit biases\n",
    "prv_vb = np.zeros([nv], np.float32)\n",
    "#Previous hidden unit biases\n",
    "prv_hb = np.zeros([nh], np.float32)"
   ]
  },
  {
   "cell_type": "code",
   "execution_count": 10,
   "metadata": {},
   "outputs": [],
   "source": [
    "sess = tf.Session()\n",
    "sess.run(tf.global_variables_initializer())"
   ]
  },
  {
   "cell_type": "code",
   "execution_count": 11,
   "metadata": {},
   "outputs": [
    {
     "name": "stdout",
     "output_type": "stream",
     "text": [
      "Epoch\tTraining Error\n",
      "---------------------------------\n",
      "1  \t0.0595\n",
      "2  \t0.0507\n",
      "3  \t0.0486\n",
      "4  \t0.0477\n",
      "5  \t0.0471\n",
      "6  \t0.0464\n",
      "7  \t0.0460\n",
      "8  \t0.0459\n",
      "9  \t0.0456\n",
      "10  \t0.0456\n",
      "11  \t0.0456\n",
      "12  \t0.0454\n",
      "13  \t0.0454\n",
      "14  \t0.0453\n",
      "15  \t0.0452\n",
      "---------------------------------\n"
     ]
    }
   ],
   "source": [
    "epochs = 15\n",
    "batchsize = 100\n",
    "errors = []\n",
    "\n",
    "print(\"Epoch\\tTraining Error\")\n",
    "print(\"---------------------------------\")\n",
    "for i in range(epochs):\n",
    "    for start, end in zip(range(0, len(X_train), batchsize), range(batchsize, len(X_train), batchsize)):\n",
    "        batch = X_train[start:end]\n",
    "        cur_w = sess.run(update_w, feed_dict={v0: batch, W: prv_w, vb: prv_vb, hb: prv_hb})\n",
    "        cur_vb = sess.run(update_vb, feed_dict={v0: batch, W: prv_w, vb: prv_vb, hb: prv_hb})\n",
    "        cur_nb = sess.run(update_hb, feed_dict={v0: batch, W: prv_w, vb: prv_vb, hb: prv_hb})\n",
    "        prv_w = cur_w\n",
    "        prv_vb = cur_vb\n",
    "        prv_hb = cur_hb\n",
    "        \n",
    "    errors.append(sess.run(err_sum, feed_dict={v0: X_train, W: cur_w, vb: cur_vb, hb: cur_hb}))\n",
    "    print (i+1, \" \\t{0:.4f}\".format(errors[-1]))\n",
    "print(\"---------------------------------\")"
   ]
  },
  {
   "cell_type": "markdown",
   "metadata": {},
   "source": [
    "Plotting the errors for each epoch gives us an insight on the training process."
   ]
  },
  {
   "cell_type": "code",
   "execution_count": 12,
   "metadata": {},
   "outputs": [
    {
     "data": {
      "image/png": "[encoded data removed]",
      "text/plain": [
       "<Figure size 1080x720 with 1 Axes>"
      ]
     },
     "metadata": {
      "needs_background": "light"
     },
     "output_type": "display_data"
    }
   ],
   "source": [
    "plt.figure(figsize=(15, 10))\n",
    "plt.plot(errors, 'r.-')\n",
    "plt.xlabel(\"Epochs\")\n",
    "plt.ylabel(\"Errors\")\n",
    "plt.title(\"Errors vs. Epochs\")\n",
    "plt.grid()\n",
    "plt.show()"
   ]
  },
  {
   "cell_type": "code",
   "execution_count": 13,
   "metadata": {},
   "outputs": [],
   "source": [
    "def recommend(user_id, movies_df, user_rating_df):\n",
    "    '''\n",
    "    This function returns a dataframe of recommendations based on the UserID provided.\n",
    "    '''\n",
    "    inputUser = X_train[user_id-1].reshape(1, -1)\n",
    "    \n",
    "    hh0 = tf.nn.sigmoid(tf.matmul(v0, W) + hb)\n",
    "    vv1 = tf.nn.sigmoid(tf.matmul(hh0, tf.transpose(W)) + vb)\n",
    "    feed = sess.run(hh0, feed_dict={ v0: inputUser, W: prv_w, hb: prv_hb})\n",
    "    rec = sess.run(vv1, feed_dict={ hh0: feed, W: prv_w, vb: prv_vb})\n",
    "\n",
    "    scored_movies_df = movies_df[movies_df['MovieID'].isin(user_rating_df.columns)]\n",
    "    scored_movies_df = scored_movies_df.assign(RecommendationScore = rec[0])\n",
    "    \n",
    "    movies_df = ratings_df[ratings_df['UserID'] == user_id]\n",
    "    \n",
    "    merged_df = scored_movies_df.merge(movies_df, on='MovieID', how='outer')\n",
    "    \n",
    "    merged_df = merged_df.sort_values([\"RecommendationScore\"], ascending=False)\n",
    "    \n",
    "    recommendations = merged_df[pd.isnull(merged_df[\"UserID\"])]\n",
    "    \n",
    "    return(recommendations[['MovieID', 'Title', 'Genres', 'RecommendationScore']])"
   ]
  },
  {
   "cell_type": "code",
   "execution_count": 14,
   "metadata": {},
   "outputs": [],
   "source": [
    "recommendations = recommend(215, movies_df, user_rating_df)"
   ]
  },
  {
   "cell_type": "code",
   "execution_count": 15,
   "metadata": {},
   "outputs": [
    {
     "data": {
      "text/html": [
       "<div>\n",
       "<style scoped>\n",
       "    .dataframe tbody tr th:only-of-type {\n",
       "        vertical-align: middle;\n",
       "    }\n",
       "\n",
       "    .dataframe tbody tr th {\n",
       "        vertical-align: top;\n",
       "    }\n",
       "\n",
       "    .dataframe thead th {\n",
       "        text-align: right;\n",
       "    }\n",
       "</style>\n",
       "<table border=\"1\" class=\"dataframe\">\n",
       "  <thead>\n",
       "    <tr style=\"text-align: right;\">\n",
       "      <th></th>\n",
       "      <th>MovieID</th>\n",
       "      <th>Title</th>\n",
       "      <th>Genres</th>\n",
       "      <th>RecommendationScore</th>\n",
       "    </tr>\n",
       "  </thead>\n",
       "  <tbody>\n",
       "    <tr>\n",
       "      <th>1106</th>\n",
       "      <td>1196</td>\n",
       "      <td>Star Wars: Episode V - The Empire Strikes Back...</td>\n",
       "      <td>Action|Adventure|Drama|Sci-Fi|War</td>\n",
       "      <td>0.970261</td>\n",
       "    </tr>\n",
       "    <tr>\n",
       "      <th>2374</th>\n",
       "      <td>2571</td>\n",
       "      <td>Matrix, The (1999)</td>\n",
       "      <td>Action|Sci-Fi|Thriller</td>\n",
       "      <td>0.889308</td>\n",
       "    </tr>\n",
       "    <tr>\n",
       "      <th>1178</th>\n",
       "      <td>1270</td>\n",
       "      <td>Back to the Future (1985)</td>\n",
       "      <td>Comedy|Sci-Fi</td>\n",
       "      <td>0.810750</td>\n",
       "    </tr>\n",
       "    <tr>\n",
       "      <th>1449</th>\n",
       "      <td>1580</td>\n",
       "      <td>Men in Black (1997)</td>\n",
       "      <td>Action|Adventure|Comedy|Sci-Fi</td>\n",
       "      <td>0.722108</td>\n",
       "    </tr>\n",
       "    <tr>\n",
       "      <th>575</th>\n",
       "      <td>589</td>\n",
       "      <td>Terminator 2: Judgment Day (1991)</td>\n",
       "      <td>Action|Sci-Fi|Thriller</td>\n",
       "      <td>0.710000</td>\n",
       "    </tr>\n",
       "    <tr>\n",
       "      <th>1148</th>\n",
       "      <td>1240</td>\n",
       "      <td>Terminator, The (1984)</td>\n",
       "      <td>Action|Sci-Fi|Thriller</td>\n",
       "      <td>0.666625</td>\n",
       "    </tr>\n",
       "    <tr>\n",
       "      <th>1108</th>\n",
       "      <td>1198</td>\n",
       "      <td>Raiders of the Lost Ark (1981)</td>\n",
       "      <td>Action|Adventure</td>\n",
       "      <td>0.638753</td>\n",
       "    </tr>\n",
       "    <tr>\n",
       "      <th>1275</th>\n",
       "      <td>1374</td>\n",
       "      <td>Star Trek: The Wrath of Khan (1982)</td>\n",
       "      <td>Action|Adventure|Sci-Fi</td>\n",
       "      <td>0.603150</td>\n",
       "    </tr>\n",
       "    <tr>\n",
       "      <th>1258</th>\n",
       "      <td>1356</td>\n",
       "      <td>Star Trek: First Contact (1996)</td>\n",
       "      <td>Action|Adventure|Sci-Fi</td>\n",
       "      <td>0.601666</td>\n",
       "    </tr>\n",
       "    <tr>\n",
       "      <th>1277</th>\n",
       "      <td>1376</td>\n",
       "      <td>Star Trek IV: The Voyage Home (1986)</td>\n",
       "      <td>Action|Adventure|Sci-Fi</td>\n",
       "      <td>0.565737</td>\n",
       "    </tr>\n",
       "    <tr>\n",
       "      <th>737</th>\n",
       "      <td>780</td>\n",
       "      <td>Independence Day (ID4) (1996)</td>\n",
       "      <td>Action|Sci-Fi|War</td>\n",
       "      <td>0.562515</td>\n",
       "    </tr>\n",
       "    <tr>\n",
       "      <th>574</th>\n",
       "      <td>588</td>\n",
       "      <td>Aladdin (1992)</td>\n",
       "      <td>Animation|Children's|Comedy|Musical</td>\n",
       "      <td>0.538909</td>\n",
       "    </tr>\n",
       "    <tr>\n",
       "      <th>3238</th>\n",
       "      <td>3471</td>\n",
       "      <td>Close Encounters of the Third Kind (1977)</td>\n",
       "      <td>Drama|Sci-Fi</td>\n",
       "      <td>0.519539</td>\n",
       "    </tr>\n",
       "    <tr>\n",
       "      <th>1110</th>\n",
       "      <td>1200</td>\n",
       "      <td>Aliens (1986)</td>\n",
       "      <td>Action|Sci-Fi|Thriller|War</td>\n",
       "      <td>0.480975</td>\n",
       "    </tr>\n",
       "    <tr>\n",
       "      <th>2958</th>\n",
       "      <td>3175</td>\n",
       "      <td>Galaxy Quest (1999)</td>\n",
       "      <td>Adventure|Comedy|Sci-Fi</td>\n",
       "      <td>0.468352</td>\n",
       "    </tr>\n",
       "    <tr>\n",
       "      <th>1050</th>\n",
       "      <td>1127</td>\n",
       "      <td>Abyss, The (1989)</td>\n",
       "      <td>Action|Adventure|Sci-Fi|Thriller</td>\n",
       "      <td>0.455616</td>\n",
       "    </tr>\n",
       "    <tr>\n",
       "      <th>354</th>\n",
       "      <td>364</td>\n",
       "      <td>Lion King, The (1994)</td>\n",
       "      <td>Animation|Children's|Musical</td>\n",
       "      <td>0.451612</td>\n",
       "    </tr>\n",
       "    <tr>\n",
       "      <th>527</th>\n",
       "      <td>541</td>\n",
       "      <td>Blade Runner (1982)</td>\n",
       "      <td>Film-Noir|Sci-Fi</td>\n",
       "      <td>0.441466</td>\n",
       "    </tr>\n",
       "    <tr>\n",
       "      <th>863</th>\n",
       "      <td>924</td>\n",
       "      <td>2001: A Space Odyssey (1968)</td>\n",
       "      <td>Drama|Mystery|Sci-Fi|Thriller</td>\n",
       "      <td>0.429240</td>\n",
       "    </tr>\n",
       "    <tr>\n",
       "      <th>2898</th>\n",
       "      <td>3114</td>\n",
       "      <td>Toy Story 2 (1999)</td>\n",
       "      <td>Animation|Children's|Comedy</td>\n",
       "      <td>0.421634</td>\n",
       "    </tr>\n",
       "  </tbody>\n",
       "</table>\n",
       "</div>"
      ],
      "text/plain": [
       "      MovieID                                              Title  \\\n",
       "1106     1196  Star Wars: Episode V - The Empire Strikes Back...   \n",
       "2374     2571                                 Matrix, The (1999)   \n",
       "1178     1270                          Back to the Future (1985)   \n",
       "1449     1580                                Men in Black (1997)   \n",
       "575       589                  Terminator 2: Judgment Day (1991)   \n",
       "1148     1240                             Terminator, The (1984)   \n",
       "1108     1198                     Raiders of the Lost Ark (1981)   \n",
       "1275     1374                Star Trek: The Wrath of Khan (1982)   \n",
       "1258     1356                    Star Trek: First Contact (1996)   \n",
       "1277     1376               Star Trek IV: The Voyage Home (1986)   \n",
       "737       780                      Independence Day (ID4) (1996)   \n",
       "574       588                                     Aladdin (1992)   \n",
       "3238     3471          Close Encounters of the Third Kind (1977)   \n",
       "1110     1200                                      Aliens (1986)   \n",
       "2958     3175                                Galaxy Quest (1999)   \n",
       "1050     1127                                  Abyss, The (1989)   \n",
       "354       364                              Lion King, The (1994)   \n",
       "527       541                                Blade Runner (1982)   \n",
       "863       924                       2001: A Space Odyssey (1968)   \n",
       "2898     3114                                 Toy Story 2 (1999)   \n",
       "\n",
       "                                   Genres  RecommendationScore  \n",
       "1106    Action|Adventure|Drama|Sci-Fi|War             0.970261  \n",
       "2374               Action|Sci-Fi|Thriller             0.889308  \n",
       "1178                        Comedy|Sci-Fi             0.810750  \n",
       "1449       Action|Adventure|Comedy|Sci-Fi             0.722108  \n",
       "575                Action|Sci-Fi|Thriller             0.710000  \n",
       "1148               Action|Sci-Fi|Thriller             0.666625  \n",
       "1108                     Action|Adventure             0.638753  \n",
       "1275              Action|Adventure|Sci-Fi             0.603150  \n",
       "1258              Action|Adventure|Sci-Fi             0.601666  \n",
       "1277              Action|Adventure|Sci-Fi             0.565737  \n",
       "737                     Action|Sci-Fi|War             0.562515  \n",
       "574   Animation|Children's|Comedy|Musical             0.538909  \n",
       "3238                         Drama|Sci-Fi             0.519539  \n",
       "1110           Action|Sci-Fi|Thriller|War             0.480975  \n",
       "2958              Adventure|Comedy|Sci-Fi             0.468352  \n",
       "1050     Action|Adventure|Sci-Fi|Thriller             0.455616  \n",
       "354          Animation|Children's|Musical             0.451612  \n",
       "527                      Film-Noir|Sci-Fi             0.441466  \n",
       "863         Drama|Mystery|Sci-Fi|Thriller             0.429240  \n",
       "2898          Animation|Children's|Comedy             0.421634  "
      ]
     },
     "execution_count": 15,
     "metadata": {},
     "output_type": "execute_result"
    }
   ],
   "source": [
    "recommendations.head(20)"
   ]
  },
  {
   "cell_type": "code",
   "execution_count": 16,
   "metadata": {},
   "outputs": [
    {
     "data": {
      "image/png": "[encoded data removed]",
      "text/plain": [
       "<Figure size 1080x720 with 1 Axes>"
      ]
     },
     "metadata": {
      "needs_background": "light"
     },
     "output_type": "display_data"
    }
   ],
   "source": [
    "plt.figure(figsize=(15, 10))\n",
    "plt.plot(recommendations[\"RecommendationScore\"].values, 'r.')\n",
    "plt.grid()\n",
    "plt.ylabel(\"Recommendation Score\")\n",
    "plt.show()"
   ]
  },
  {
   "cell_type": "markdown",
   "metadata": {},
   "source": [
    "As the recommendation score curve becomes quite flat after a few hundred values, only the highest few values have any considerable difference to be recommended."
   ]
  }
 ],
 "metadata": {
  "kernelspec": {
   "display_name": "Python 3",
   "language": "python",
   "name": "python3"
  },
  "language_info": {
   "codemirror_mode": {
    "name": "ipython",
    "version": 3
   },
   "file_extension": ".py",
   "mimetype": "text/x-python",
   "name": "python",
   "nbconvert_exporter": "python",
   "pygments_lexer": "ipython3",
   "version": "3.6.8"
  }
 },
 "nbformat": 4,
 "nbformat_minor": 2
}
