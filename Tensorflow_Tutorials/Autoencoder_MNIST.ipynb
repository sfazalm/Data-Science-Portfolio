{
 "cells": [
  {
   "cell_type": "markdown",
   "metadata": {},
   "source": [
    "# Autoencoder: MNIST"
   ]
  },
  {
   "cell_type": "code",
   "execution_count": 1,
   "metadata": {},
   "outputs": [],
   "source": [
    "import numpy as np\n",
    "import matplotlib.pyplot as plt\n",
    "import tensorflow as tf\n",
    "from sklearn.preprocessing import OneHotEncoder\n",
    "%matplotlib inline"
   ]
  },
  {
   "cell_type": "code",
   "execution_count": 2,
   "metadata": {},
   "outputs": [],
   "source": [
    "def get_mnist(one_hot_encoded=True, normalize_X=True, flatten_X=True):\n",
    "    mnist = tf.keras.datasets.mnist\n",
    "\n",
    "    (X_train, y_train),(X_test, y_test) = mnist.load_data()\n",
    "    \n",
    "    if normalize_X:\n",
    "        X_train, X_test = X_train / 255.0, X_test / 255.0\n",
    "        \n",
    "    if flatten_X:\n",
    "        X_train = X_train.reshape(-1, 784)\n",
    "        X_test = X_test.reshape(-1, 784)\n",
    "    \n",
    "    if one_hot_encoded:\n",
    "        ohe = OneHotEncoder(categories='auto')\n",
    "        ohe.fit(y_train.reshape(-1, 1))\n",
    "        \n",
    "        y_train = ohe.transform(y_train.reshape(-1, 1)).toarray()\n",
    "        y_test = ohe.transform(y_test.reshape(-1, 1)).toarray()\n",
    "        \n",
    "        return ((X_train, y_train),(X_test, y_test))\n",
    "    return ((X_train, y_train),(X_test, y_test))"
   ]
  },
  {
   "cell_type": "code",
   "execution_count": 3,
   "metadata": {},
   "outputs": [],
   "source": [
    "(X_train, y_train), (X_test, y_test) = get_mnist()"
   ]
  },
  {
   "cell_type": "markdown",
   "metadata": {},
   "source": [
    "Initialize the paramters for layers of our autoencoder"
   ]
  },
  {
   "cell_type": "code",
   "execution_count": 4,
   "metadata": {},
   "outputs": [],
   "source": [
    "n_hidden_1 = 256 # 1st layer num features\n",
    "n_hidden_2 = 128 # 2nd layer num features\n",
    "n_input = 784 # MNIST data input (img shape: 28*28)"
   ]
  },
  {
   "cell_type": "markdown",
   "metadata": {},
   "source": [
    "Initialize the tensors for the weights and biases of encoder and decoder."
   ]
  },
  {
   "cell_type": "code",
   "execution_count": 5,
   "metadata": {},
   "outputs": [],
   "source": [
    "X = tf.placeholder(\"float\", [None, n_input])\n",
    "\n",
    "W_enc_h1 = tf.Variable(tf.random_normal([n_input, n_hidden_1]))\n",
    "W_enc_h2 = tf.Variable(tf.random_normal([n_hidden_1, n_hidden_2]))\n",
    "W_dec_h1 = tf.Variable(tf.random_normal([n_hidden_2, n_hidden_1]))\n",
    "W_dec_h2 = tf.Variable(tf.random_normal([n_hidden_1, n_input]))\n",
    "\n",
    "b_enc_h1 = tf.Variable(tf.random_normal([n_hidden_1]))\n",
    "b_enc_h2 = tf.Variable(tf.random_normal([n_hidden_2]))\n",
    "b_dec_h1 = tf.Variable(tf.random_normal([n_hidden_1]))\n",
    "b_dec_h2 = tf.Variable(tf.random_normal([n_input]))"
   ]
  },
  {
   "cell_type": "markdown",
   "metadata": {},
   "source": [
    "Define the encoder and decoder layers"
   ]
  },
  {
   "cell_type": "code",
   "execution_count": 6,
   "metadata": {},
   "outputs": [],
   "source": [
    "#Encoder\n",
    "layer_1_enc = tf.nn.sigmoid(tf.add(tf.matmul(X, W_enc_h1), b_enc_h1))\n",
    "layer_2_enc = tf.nn.sigmoid(tf.add(tf.matmul(layer_1_enc, W_enc_h2), b_enc_h2))\n",
    "\n",
    "#Decoder\n",
    "layer_1_dec = tf.nn.sigmoid(tf.add(tf.matmul(layer_2_enc, W_dec_h1), b_dec_h1))\n",
    "layer_2_dec = tf.nn.sigmoid(tf.add(tf.matmul(layer_1_dec, W_dec_h2), b_dec_h2))"
   ]
  },
  {
   "cell_type": "markdown",
   "metadata": {},
   "source": [
    "We will be using Mean Squared Error as a cost function for our model."
   ]
  },
  {
   "cell_type": "code",
   "execution_count": 7,
   "metadata": {},
   "outputs": [],
   "source": [
    "lr = 0.01\n",
    "\n",
    "err = X - layer_2_dec\n",
    "cost = tf.reduce_mean(err * err)\n",
    "\n",
    "optimizer = tf.train.RMSPropOptimizer(lr).minimize(cost)"
   ]
  },
  {
   "cell_type": "code",
   "execution_count": 8,
   "metadata": {},
   "outputs": [],
   "source": [
    "sess = tf.InteractiveSession()\n",
    "init = tf.global_variables_initializer()\n",
    "sess.run(init)"
   ]
  },
  {
   "cell_type": "code",
   "execution_count": 9,
   "metadata": {},
   "outputs": [],
   "source": [
    "batch_size = 256\n",
    "epochs = 50"
   ]
  },
  {
   "cell_type": "markdown",
   "metadata": {},
   "source": [
    "We will be training in batches to avoid running out of memory."
   ]
  },
  {
   "cell_type": "code",
   "execution_count": 10,
   "metadata": {},
   "outputs": [
    {
     "name": "stdout",
     "output_type": "stream",
     "text": [
      "Epoch\tCost\n",
      "------------------------------------\n",
      "5 \t0.1261\n",
      "10 \t0.1089\n",
      "15 \t0.0965\n",
      "20 \t0.0897\n",
      "25 \t0.0879\n",
      "30 \t0.0821\n",
      "35 \t0.0846\n",
      "40 \t0.0810\n",
      "45 \t0.0786\n",
      "50 \t0.0803\n",
      "------------------------------------\n"
     ]
    }
   ],
   "source": [
    "cost_vals = []\n",
    "print(\"Epoch\\tCost\")\n",
    "print(\"------------------------------------\")\n",
    "for epoch in range(epochs):\n",
    "    for start, end in zip(range(0, len(X_train), batch_size), range(batch_size, len(X_train), batch_size)):\n",
    "        batch_x = X_train[start:end]\n",
    "        \n",
    "        _, c = sess.run([optimizer, cost], feed_dict={X: batch_x})\n",
    "    cost_vals.append(c)\n",
    "    if (epoch+1)%5 == 0:\n",
    "        print(epoch+1, \"\\t{0:.4f}\".format(c))\n",
    "print(\"------------------------------------\")\n",
    "        "
   ]
  },
  {
   "cell_type": "code",
   "execution_count": 11,
   "metadata": {},
   "outputs": [
    {
     "data": {
      "image/png": "[encoded data removed]",
      "text/plain": [
       "<Figure size 1080x720 with 1 Axes>"
      ]
     },
     "metadata": {
      "needs_background": "light"
     },
     "output_type": "display_data"
    }
   ],
   "source": [
    "plt.figure(figsize=(15, 10))\n",
    "plt.plot(cost_vals, 'r.-')\n",
    "plt.xlabel(\"Epochs\")\n",
    "plt.ylabel(\"Errors\")\n",
    "plt.title(\"Errors vs. Epochs\")\n",
    "plt.grid()\n",
    "plt.show()"
   ]
  },
  {
   "cell_type": "code",
   "execution_count": 12,
   "metadata": {},
   "outputs": [],
   "source": [
    "encode_decode = sess.run(layer_2_dec, feed_dict={X: X_test[:10]})"
   ]
  },
  {
   "cell_type": "markdown",
   "metadata": {},
   "source": [
    "Lets have a look a test images and their reconstructed form."
   ]
  },
  {
   "cell_type": "code",
   "execution_count": 13,
   "metadata": {},
   "outputs": [
    {
     "data": {
      "image/png": "[encoded data removed]",
      "text/plain": [
       "<Figure size 1008x144 with 20 Axes>"
      ]
     },
     "metadata": {
      "needs_background": "light"
     },
     "output_type": "display_data"
    }
   ],
   "source": [
    "f, a = plt.subplots(2, 10, figsize=(14, 2))\n",
    "for i in range(10):\n",
    "    a[0][i].imshow(np.reshape(X_test[i], (28, 28)), cmap='gray')\n",
    "    a[0][i].axis('off')\n",
    "    \n",
    "    a[1][i].imshow(np.reshape(encode_decode[i], (28, 28)), cmap='gray')\n",
    "    a[1][i].axis('off')\n",
    "plt.show()"
   ]
  }
 ],
 "metadata": {
  "kernelspec": {
   "display_name": "Python 3",
   "language": "python",
   "name": "python3"
  },
  "language_info": {
   "codemirror_mode": {
    "name": "ipython",
    "version": 3
   },
   "file_extension": ".py",
   "mimetype": "text/x-python",
   "name": "python",
   "nbconvert_exporter": "python",
   "pygments_lexer": "ipython3",
   "version": "3.6.8"
  }
 },
 "nbformat": 4,
 "nbformat_minor": 2
}
